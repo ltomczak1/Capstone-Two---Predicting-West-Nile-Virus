{
 "cells": [
  {
   "cell_type": "code",
   "execution_count": null,
   "metadata": {},
   "outputs": [],
   "source": [
    "def datetime(df):\n",
    "    df['Date'] = pd.to_datetime(df['Date'])"
   ]
  },
  {
   "cell_type": "code",
   "execution_count": null,
   "metadata": {},
   "outputs": [],
   "source": [
    "def ymwd(df):\n",
    "    df['Year'] = df['Date'].dt.year\n",
    "    df['Month'] = df['Date'].dt.month\n",
    "    df['Week'] = df['Date'].dt.isocalendar().week\n",
    "    df['Day'] = df['Date'].dt.day"
   ]
  },
  {
   "cell_type": "code",
   "execution_count": null,
   "metadata": {},
   "outputs": [],
   "source": [
    "def weather_cleaner(weather_df):\n",
    "    weather_df.replace('M', np.nan, inplace=True)\n",
    "    weather_df.replace('  T', 0.01, inplace=True)\n",
    "    weather_df.replace('-', np.nan, inplace=True)\n",
    "    datetime(weather_df)\n",
    "    ymwd(weather_df)\n",
    "    weather_df['Tavg'] = (weather_df['Tmax'] + weather_df['Tmin']) / 2\n",
    "    weather_df['AvgSpeed'].fillna(weather_df['AvgSpeed'].median(), inplace=True)\n",
    "    weather_df['WetBulb'].fillna(method='bfill', inplace=True)\n",
    "    weather_df['Depart'].fillna(method='ffill', inplace=True)\n",
    "    weather_df['Heat'].fillna(method='ffill', inplace=True)\n",
    "    weather_df['Cool'].fillna(method='ffill', inplace=True)\n",
    "    weather_df['Sunrise'].fillna(method='ffill', inplace=True)\n",
    "    weather_df['Sunset'].fillna(method='ffill', inplace=True)\n",
    "    weather_df['PrecipTotal'].fillna(method='ffill', inplace=True)\n",
    "    weather_df['StnPressure'].fillna(method='ffill', inplace=True)\n",
    "    weather_df['SeaLevel'].fillna(method='ffill', inplace=True)\n",
    "    weather_df.drop(['CodeSum', 'Depth', 'Water1', 'SnowFall'], axis=1, inplace=True)\n",
    "\n",
    "    for col in weather_df.columns:\n",
    "    try:\n",
    "        weather_df[col] = weather_df[col].astype(float)\n",
    "    except:\n",
    "        print(col, 'Cannot be transformed into a float')\n",
    "        pass\n",
    "\n",
    "    weather_df = weather_df.groupby('Date').sum()/2\n",
    "    weather_df.drop('Station', axis=1, inplace=True).reset_index()"
   ]
  },
  {
   "cell_type": "code",
   "execution_count": null,
   "metadata": {},
   "outputs": [],
   "source": [
    "#Weather Lag function?\n",
    "\n",
    "def lag_weather(weather_df):\n",
    "\n",
    "    df['Tmax_1w'] = df['Tmax'].shift(7)\n",
    "    df['Tmax_2w'] = df['Tmax'].shift(14)\n",
    "    df['Tmax_3w'] = df['Tmax'].shift(21)\n",
    "\n",
    "    df['Tmin_1w'] = df['Tmin'].shift(7)\n",
    "    df['Tmin_2w'] = df['Tmin'].shift(14)\n",
    "    df['Tmin_3w'] = df['Tmin'].shift(21)\n",
    "\n",
    "    df['Tavg_1w'] = df['Tavg'].shift(7)\n",
    "    df['Tavg_2w'] = df['Tavg'].shift(14)\n",
    "    df['Tavg_3w'] = df['Tavg'].shift(21)\n",
    "\n",
    "    df['Depart_1w'] = df['Depart'].shift(7)\n",
    "    df['Depart_2w'] = df['Depart'].shift(14)\n",
    "    df['Depart_3w'] = df['Depart'].shift(21)\n",
    "\n",
    "    df['DewPoint_1w'] = df['DewPoint'].shift(7)\n",
    "    df['DewPoint_2w'] = df['DewPoint'].shift(14)\n",
    "    df['DewPoint_3w'] = df['DewPoint'].shift(21)\n",
    "\n",
    "    df['WetBulb_1w'] = df['WetBulb'].shift(7)\n",
    "    df['WetBulb_2w'] = df['WetBulb'].shift(14)\n",
    "    df['WetBulb_3w'] = df['WetBulb'].shift(21)\n",
    "\n",
    "    df['Heat_1w'] = df['Heat'].shift(7)\n",
    "    df['Heat_2w'] = df['Heat'].shift(14)\n",
    "    df['Heat_3w'] = df['Heat'].shift(21)\n",
    "\n",
    "    df['Cool_1w'] = df['Cool'].shift(7)\n",
    "    df['Cool_2w'] = df['Cool'].shift(14)\n",
    "    df['Cool_3w'] = df['Cool'].shift(21)\n",
    "\n",
    "    df['PrecipTotal_1w'] = df['PrecipTotal'].shift(7)\n",
    "    df['PrecipTotal_2w'] = df['PrecipTotal'].shift(14)\n",
    "    df['PrecipTotal_3w'] = df['PrecipTotal'].shift(21)\n",
    "\n",
    "    df['StnPressure_1w'] = df['StnPressure'].shift(7)\n",
    "    df['StnPressure_2w'] = df['StnPressure'].shift(14)\n",
    "    df['StnPressure_3w'] = df['StnPressure'].shift(21)\n",
    "\n",
    "    df['SeaLevel_1w'] = df['SeaLevel'].shift(7)\n",
    "    df['SeaLevel_2w'] = df['SeaLevel'].shift(14)\n",
    "    df['SeaLevel_3w'] = df['SeaLevel'].shift(21)\n",
    "\n",
    "    df['ResultSpeed_1w'] = df['ResultSpeed'].shift(7)\n",
    "    df['ResultSpeed_2w'] = df['ResultSpeed'].shift(14)\n",
    "    df['ResultSpeed_3w'] = df['ResultSpeed'].shift(21)\n",
    "\n",
    "    df['ResultDir_1w'] = df['ResultDir'].shift(7)\n",
    "    df['ResultDir_2w'] = df['ResultDir'].shift(14)\n",
    "    df['ResultDir_3w'] = df['ResultDir'].shift(21)\n",
    "\n",
    "    df['AvgSpeed_1w'] = df['AvgSpeed'].shift(7)\n",
    "    df['AvgSpeed_2w'] = df['AvgSpeed'].shift(14)\n",
    "    df['AvgSpeed_3w'] = df['AvgSpeed'].shift(21)\n",
    "\n",
    "    #fill N/A and reorganize cols?\n"
   ]
  },
  {
   "cell_type": "code",
   "execution_count": null,
   "metadata": {},
   "outputs": [],
   "source": [
    "# Dummy Species function\n",
    "train_df = pd.concat([train_df, pd.get_dummies(train_df['Species'], drop_first=True)], axis=1)\n",
    "# We can drop the species column now that we have our dummies.\n",
    "train_df.drop('Species', axis=1, inplace=True)\n",
    "\n",
    "\n",
    "#Get dummies for species in test set\n",
    "test_df = pd.concat([test_df, pd.get_dummies(test_df['Species'], drop_first=True)], axis=1)\n",
    "# We can drop the species column now that we have our dummies.\n",
    "test_df.drop('Species', axis=1, inplace=True)"
   ]
  },
  {
   "cell_type": "code",
   "execution_count": null,
   "metadata": {},
   "outputs": [],
   "source": [
    "#combined_train = pd.merge(train_df,weather_df,on=['Date'],how='left')"
   ]
  },
  {
   "cell_type": "code",
   "execution_count": null,
   "metadata": {},
   "outputs": [],
   "source": [
    "#combined_test = pd.merge(test_df, weather_df,on=['Date'],how='left')"
   ]
  },
  {
   "cell_type": "code",
   "execution_count": null,
   "metadata": {},
   "outputs": [],
   "source": [
    "#check balance of dataset. How much WNV is present vs not preset. very imbalanced!\n",
    "\n",
    "fig, ax = plt.subplots(figsize=(20,8))\n",
    "_ = sns.countplot(x='WnvPresent', data=train_df)"
   ]
  },
  {
   "cell_type": "code",
   "execution_count": null,
   "metadata": {},
   "outputs": [],
   "source": [
    "#Code for seeing wht species carry WNV\n",
    "\n",
    "fig, ax = plt.subplots(figsize=(20,8))\n",
    "_ = sns.countplot(x='Species', data=train_df, hue='WnvPresent')"
   ]
  },
  {
   "cell_type": "code",
   "execution_count": 3,
   "metadata": {},
   "outputs": [
    {
     "ename": "NameError",
     "evalue": "name 'plt' is not defined",
     "output_type": "error",
     "traceback": [
      "\u001b[0;31m---------------------------------------------------------------------------\u001b[0m",
      "\u001b[0;31mNameError\u001b[0m                                 Traceback (most recent call last)",
      "\u001b[1;32m/Users/louistomczak/Desktop/CapstoneTwo/CapstoneTwoFunctions.ipynb Cell 10\u001b[0m in \u001b[0;36m<cell line: 1>\u001b[0;34m()\u001b[0m\n\u001b[0;32m----> <a href='vscode-notebook-cell:/Users/louistomczak/Desktop/CapstoneTwo/CapstoneTwoFunctions.ipynb#ch0000010?line=0'>1</a>\u001b[0m fig, ax \u001b[39m=\u001b[39m plt\u001b[39m.\u001b[39msubplots(figsize\u001b[39m=\u001b[39m(\u001b[39m20\u001b[39m,\u001b[39m8\u001b[39m))\n\u001b[1;32m      <a href='vscode-notebook-cell:/Users/louistomczak/Desktop/CapstoneTwo/CapstoneTwoFunctions.ipynb#ch0000010?line=1'>2</a>\u001b[0m _ \u001b[39m=\u001b[39m sns\u001b[39m.\u001b[39mlineplot(x\u001b[39m=\u001b[39m\u001b[39m'\u001b[39m\u001b[39mDate\u001b[39m\u001b[39m'\u001b[39m, y\u001b[39m=\u001b[39m\u001b[39m'\u001b[39m\u001b[39mWnvPresent\u001b[39m\u001b[39m'\u001b[39m, data\u001b[39m=\u001b[39mtrain_df)\n",
      "\u001b[0;31mNameError\u001b[0m: name 'plt' is not defined"
     ]
    }
   ],
   "source": [
    "weather_df.hist(figsize=(12, 12)) get histogram"
   ]
  },
  {
   "cell_type": "code",
   "execution_count": 4,
   "metadata": {},
   "outputs": [
    {
     "ename": "NameError",
     "evalue": "name 'plt' is not defined",
     "output_type": "error",
     "traceback": [
      "\u001b[0;31m---------------------------------------------------------------------------\u001b[0m",
      "\u001b[0;31mNameError\u001b[0m                                 Traceback (most recent call last)",
      "\u001b[1;32m/Users/louistomczak/Desktop/CapstoneTwo/CapstoneTwoFunctions.ipynb Cell 11\u001b[0m in \u001b[0;36m<cell line: 3>\u001b[0;34m()\u001b[0m\n\u001b[1;32m      <a href='vscode-notebook-cell:/Users/louistomczak/Desktop/CapstoneTwo/CapstoneTwoFunctions.ipynb#ch0000011?line=0'>1</a>\u001b[0m \u001b[39m#compare precip to month or week?\u001b[39;00m\n\u001b[0;32m----> <a href='vscode-notebook-cell:/Users/louistomczak/Desktop/CapstoneTwo/CapstoneTwoFunctions.ipynb#ch0000011?line=2'>3</a>\u001b[0m fig, ax \u001b[39m=\u001b[39m plt\u001b[39m.\u001b[39msubplots(figsize\u001b[39m=\u001b[39m(\u001b[39m20\u001b[39m,\u001b[39m8\u001b[39m))\n\u001b[1;32m      <a href='vscode-notebook-cell:/Users/louistomczak/Desktop/CapstoneTwo/CapstoneTwoFunctions.ipynb#ch0000011?line=3'>4</a>\u001b[0m _ \u001b[39m=\u001b[39m sns\u001b[39m.\u001b[39mlineplot(x\u001b[39m=\u001b[39m\u001b[39m'\u001b[39m\u001b[39mDate\u001b[39m\u001b[39m'\u001b[39m, y\u001b[39m=\u001b[39m\u001b[39m'\u001b[39m\u001b[39mAvgSpeed\u001b[39m\u001b[39m'\u001b[39m, data\u001b[39m=\u001b[39mweather_df)\n",
      "\u001b[0;31mNameError\u001b[0m: name 'plt' is not defined"
     ]
    }
   ],
   "source": [
    "#compare precip to month or week?\n",
    "\n",
    "fig, ax = plt.subplots(figsize=(20,8))\n",
    "_ = sns.lineplot(x='Date', y='PrecipTotal', data=weather_df)"
   ]
  },
  {
   "cell_type": "code",
   "execution_count": null,
   "metadata": {},
   "outputs": [],
   "source": [
    "#compare temp average across the date/month etc. likely month or week and group by year?\n",
    "#do same for precip total and wind.\n",
    "#wet bulb and dew point also?\n",
    "\n",
    "fig, ax = plt.subplots(figsize=(20,8))\n",
    "_ = sns.lineplot(x='Date', y='Tavg', data=weather_df)"
   ]
  },
  {
   "cell_type": "code",
   "execution_count": null,
   "metadata": {},
   "outputs": [],
   "source": [
    "#So, prob extract year month week day from weather and combine with test and train. Then examine - easier when all in same df.\n"
   ]
  },
  {
   "cell_type": "code",
   "execution_count": null,
   "metadata": {},
   "outputs": [],
   "source": [
    "use gg plot to plot traps by lat and lon and wnv present"
   ]
  },
  {
   "cell_type": "code",
   "execution_count": null,
   "metadata": {},
   "outputs": [],
   "source": [
    "\n",
    "# August tends to have higher incidences of the West Nile Virus\n",
    "fig, ax = plt.subplots(1,1,figsize=(12,8))\n",
    "sns.barplot(data=train.groupby(by='Month').sum().reset_index(), x='Month', y='WnvPresent', color='#8383EC', ax=ax)\n",
    "plt.title('WnvPresent Months (2007, 2009, 2011, 2013)', fontsize=18);"
   ]
  }
 ],
 "metadata": {
  "kernelspec": {
   "display_name": "Python 3.10.0 64-bit",
   "language": "python",
   "name": "python3"
  },
  "language_info": {
   "codemirror_mode": {
    "name": "ipython",
    "version": 3
   },
   "file_extension": ".py",
   "mimetype": "text/x-python",
   "name": "python",
   "nbconvert_exporter": "python",
   "pygments_lexer": "ipython3",
   "version": "3.10.0"
  },
  "orig_nbformat": 4,
  "vscode": {
   "interpreter": {
    "hash": "aee8b7b246df8f9039afb4144a1f6fd8d2ca17a180786b69acc140d282b71a49"
   }
  }
 },
 "nbformat": 4,
 "nbformat_minor": 2
}
